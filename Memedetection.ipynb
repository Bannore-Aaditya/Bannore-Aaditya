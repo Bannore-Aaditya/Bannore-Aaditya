{
  "nbformat": 4,
  "nbformat_minor": 0,
  "metadata": {
    "colab": {
      "provenance": [],
      "mount_file_id": "18tY6U1Eo-Vq1DugYostQUTvVTz6-5Ujn",
      "authorship_tag": "ABX9TyMbeDJ3WjDv7Kaxhi6Zijmh",
      "include_colab_link": true
    },
    "kernelspec": {
      "name": "python3",
      "display_name": "Python 3"
    },
    "language_info": {
      "name": "python"
    }
  },
  "cells": [
    {
      "cell_type": "markdown",
      "metadata": {
        "id": "view-in-github",
        "colab_type": "text"
      },
      "source": [
        "<a href=\"https://colab.research.google.com/github/Bannore-Aaditya/Bannore-Aaditya/blob/main/Memedetection.ipynb\" target=\"_parent\"><img src=\"https://colab.research.google.com/assets/colab-badge.svg\" alt=\"Open In Colab\"/></a>"
      ]
    },
    {
      "cell_type": "code",
      "execution_count": null,
      "metadata": {
        "id": "rV5ktVX833yG"
      },
      "outputs": [],
      "source": [
        "import os\n",
        "import numpy as np\n",
        "import matplotlib.pyplot as plt\n",
        "import cv2\n"
      ]
    },
    {
      "cell_type": "code",
      "source": [
        "from google.colab import drive\n",
        "drive.mount('/content/drive')"
      ],
      "metadata": {
        "colab": {
          "base_uri": "https://localhost:8080/"
        },
        "id": "hT0FIjt-BTXU",
        "outputId": "9ebba822-56c2-4ce6-dc0c-84bf4534a48b"
      },
      "execution_count": null,
      "outputs": [
        {
          "output_type": "stream",
          "name": "stdout",
          "text": [
            "Drive already mounted at /content/drive; to attempt to forcibly remount, call drive.mount(\"/content/drive\", force_remount=True).\n"
          ]
        }
      ]
    },
    {
      "cell_type": "code",
      "source": [
        "!pip install -q keras"
      ],
      "metadata": {
        "id": "tgh8Oh58GJN5"
      },
      "execution_count": null,
      "outputs": []
    },
    {
      "cell_type": "code",
      "source": [
        "\n",
        "from google.colab.patches import cv2_imshow\n",
        "\n",
        "dir = \"/content/drive/MyDrive/Memetube/\"\n",
        "\n",
        "Categories = ['memes','Notmeme']\n",
        "\n",
        "data = []\n",
        "\n",
        "for category in Categories:\n",
        "  path = os.path.join(dir,category)\n",
        "  label = Categories.index(category)\n",
        "\n",
        "  print(path)\n",
        "  for img in os.listdir(path):\n",
        "\n",
        "\n",
        "    imgpath = os.path.join(path,img)\n",
        "    pet_img = cv2.imread(imgpath)\n",
        "\n",
        "    try :\n",
        "      pet_img = cv2.resize(pet_img,(50,50))\n",
        "      image = np.array(pet_img).flatten()\n",
        "\n",
        "      data.append([image,label])\n",
        "\n",
        "    except Exception as e :\n",
        "      print(\"eception is going\")\n",
        "      pass\n",
        "\n",
        "print(len(data))\n"
      ],
      "metadata": {
        "id": "fpxoyoAlBWhw",
        "colab": {
          "base_uri": "https://localhost:8080/"
        },
        "outputId": "fe28067b-d35f-480e-e92b-d52b38822424"
      },
      "execution_count": null,
      "outputs": [
        {
          "output_type": "stream",
          "name": "stdout",
          "text": [
            "/content/drive/MyDrive/Memetube/memes\n",
            "/content/drive/MyDrive/Memetube/Notmeme\n",
            "79\n"
          ]
        }
      ]
    },
    {
      "cell_type": "code",
      "source": [
        "print(data)"
      ],
      "metadata": {
        "colab": {
          "base_uri": "https://localhost:8080/"
        },
        "id": "ftcAl65JLd69",
        "outputId": "6c47c0e3-91a1-48c9-f706-d3230b63bd9d"
      },
      "execution_count": null,
      "outputs": [
        {
          "output_type": "stream",
          "name": "stdout",
          "text": [
            "[[array([  1,   1,   1, ...,  75, 102, 137], dtype=uint8), 0], [array([ 54, 193, 238, ...,  16, 192, 255], dtype=uint8), 0], [array([ 65, 220, 194, ..., 168,  81, 117], dtype=uint8), 0], [array([255, 255, 255, ..., 255, 255, 255], dtype=uint8), 0], [array([ 85,  72,  12, ..., 191, 209, 208], dtype=uint8), 0], [array([244, 252, 248, ..., 254, 254, 255], dtype=uint8), 0], [array([255, 255, 255, ..., 254, 254, 254], dtype=uint8), 0], [array([0, 0, 0, ..., 4, 0, 1], dtype=uint8), 0], [array([253, 253, 253, ...,  84,  76,  44], dtype=uint8), 0], [array([137, 160, 166, ..., 250, 252, 252], dtype=uint8), 0], [array([134, 161, 166, ..., 249, 252, 252], dtype=uint8), 0], [array([133, 160, 165, ..., 249, 252, 252], dtype=uint8), 0], [array([113, 147, 156, ..., 246, 252, 251], dtype=uint8), 0], [array([ 99, 122, 122, ...,   7,  25,  91], dtype=uint8), 0], [array([249, 253, 252, ..., 255, 255, 255], dtype=uint8), 0], [array([202, 219, 226, ...,  62,  62,  62], dtype=uint8), 0], [array([255, 255, 255, ...,  62,  93, 158], dtype=uint8), 0], [array([254, 254, 254, ...,  37,  51,  98], dtype=uint8), 0], [array([103, 102,  97, ...,  90,  90,  96], dtype=uint8), 0], [array([38, 36, 32, ..., 66, 61, 27], dtype=uint8), 0], [array([254, 254, 254, ..., 254, 254, 254], dtype=uint8), 0], [array([254, 185, 160, ..., 180,  85,  69], dtype=uint8), 0], [array([ 4,  6,  5, ..., 48, 41,  6], dtype=uint8), 0], [array([22, 38, 37, ...,  7,  2,  1], dtype=uint8), 0], [array([170, 214, 223, ...,  87, 141, 196], dtype=uint8), 0], [array([151, 227, 214, ...,  51,  52,  19], dtype=uint8), 0], [array([ 8, 43, 57, ..., 32, 60, 61], dtype=uint8), 0], [array([109, 215, 176, ..., 129, 135,  61], dtype=uint8), 0], [array([32, 47, 58, ..., 38, 45, 44], dtype=uint8), 0], [array([142, 154, 148, ..., 194, 228, 203], dtype=uint8), 0], [array([238, 232, 161, ...,   5,   6,   5], dtype=uint8), 0], [array([214, 191, 141, ..., 149, 199, 205], dtype=uint8), 0], [array([248, 248, 248, ..., 255, 255, 255], dtype=uint8), 0], [array([1, 1, 1, ..., 1, 1, 1], dtype=uint8), 0], [array([228, 233, 232, ..., 192, 213, 208], dtype=uint8), 0], [array([1, 1, 1, ..., 1, 1, 1], dtype=uint8), 0], [array([1, 1, 1, ..., 1, 1, 1], dtype=uint8), 0], [array([240, 240, 240, ...,   7,   7,   7], dtype=uint8), 0], [array([0, 0, 0, ..., 0, 0, 0], dtype=uint8), 0], [array([ 81, 106, 132, ...,  52,  55,  83], dtype=uint8), 0], [array([ 89, 183,  94, ...,  51, 195,  53], dtype=uint8), 0], [array([153, 171, 174, ..., 183, 188, 192], dtype=uint8), 0], [array([119, 117, 119, ...,   4,   1,   7], dtype=uint8), 0], [array([54, 55, 13, ..., 81, 87, 65], dtype=uint8), 0], [array([ 15,  29,  23, ...,  42, 246, 243], dtype=uint8), 0], [array([225, 212, 128, ..., 250, 255, 254], dtype=uint8), 0], [array([ 8,  5, 19, ...,  2, 10,  9], dtype=uint8), 0], [array([107, 101,  82, ..., 247, 250, 247], dtype=uint8), 0], [array([ 81,  76,  67, ..., 255, 255, 255], dtype=uint8), 0], [array([ 0, 44, 36, ..., 11, 38, 35], dtype=uint8), 0], [array([131, 128, 128, ...,  40,  38,  38], dtype=uint8), 0], [array([ 79, 174, 207, ...,   1,   1,   1], dtype=uint8), 0], [array([47, 68, 84, ..., 22, 33, 30], dtype=uint8), 0], [array([ 52,  73, 104, ...,   8,   8,   7], dtype=uint8), 0], [array([  1,   1,   1, ..., 153, 186, 201], dtype=uint8), 0], [array([250, 197, 248, ..., 235, 192, 239], dtype=uint8), 0], [array([236, 225, 212, ...,   4,   3,   5], dtype=uint8), 0], [array([255, 255, 255, ..., 255, 255, 255], dtype=uint8), 0], [array([133, 159, 130, ..., 148, 177, 174], dtype=uint8), 0], [array([ 84, 193, 227, ...,  13,   0,   1], dtype=uint8), 0], [array([ 23,  26,  28, ..., 163, 144,   8], dtype=uint8), 1], [array([142, 149,  11, ...,  60,  62,  25], dtype=uint8), 1], [array([171,  88,  32, ...,   3,  84, 126], dtype=uint8), 1], [array([200, 173, 116, ...,  27,  19,  26], dtype=uint8), 1], [array([153, 101, 101, ...,  78,  51,  50], dtype=uint8), 1], [array([8, 0, 7, ..., 1, 0, 1], dtype=uint8), 1], [array([101,  46,   6, ...,  15,  78,  48], dtype=uint8), 1], [array([104, 114, 199, ...,  63,  81,  82], dtype=uint8), 1], [array([83, 45, 13, ..., 27, 20, 11], dtype=uint8), 1], [array([104, 114, 199, ...,  63,  81,  82], dtype=uint8), 1], [array([ 63, 151, 225, ..., 123, 157, 174], dtype=uint8), 1], [array([49, 53, 54, ...,  7,  9,  9], dtype=uint8), 1], [array([230, 207, 196, ...,  39,  28,  28], dtype=uint8), 1], [array([138, 172, 255, ...,  12,  14,  22], dtype=uint8), 1], [array([ 45,  64, 124, ...,   9,  65, 124], dtype=uint8), 1], [array([186, 122,  85, ...,  46,  34,  36], dtype=uint8), 1], [array([219, 210, 190, ..., 120, 108,  80], dtype=uint8), 1], [array([121, 109,  97, ...,  32,  63,  68], dtype=uint8), 1], [array([169, 103,  81, ...,  19,  89,  58], dtype=uint8), 1]]\n"
          ]
        }
      ]
    },
    {
      "cell_type": "code",
      "source": [
        "import pickle\n",
        "\n",
        "pick_in =open('data1.pickle','wb')\n",
        "pickle.dump(data,pick_in)\n",
        "pick_in.close()"
      ],
      "metadata": {
        "id": "SOtP7bExMMTm"
      },
      "execution_count": null,
      "outputs": []
    },
    {
      "cell_type": "code",
      "source": [
        "pickin = open('data1.pickle','rb')\n",
        "data = pickle.load(pickin)\n",
        "pickin.close()\n"
      ],
      "metadata": {
        "id": "fC_xbX55Mofa"
      },
      "execution_count": null,
      "outputs": []
    },
    {
      "cell_type": "code",
      "source": [
        "testimg = '/content/drive/MyDrive/Memetube/Notmeme/n10.jpg'\n",
        "\n",
        "pet_img = cv2.imread(testimg)\n",
        "\n",
        "tests = []\n",
        "\n",
        "try :\n",
        "  pet_img = cv2.resize(pet_img,(50,50))\n",
        "  image = np.array(pet_img).flatten()\n",
        "\n",
        "  tests.append(image)\n",
        "  print(\"image applied\")\n",
        "\n",
        "except Exception as e :\n",
        "  print(\"eception is going\")\n",
        "    \n",
        "    \n"
      ],
      "metadata": {
        "colab": {
          "base_uri": "https://localhost:8080/"
        },
        "id": "1ao5f43FRCxy",
        "outputId": "6745c8d1-45e7-46ed-d7b1-dad4127d2833"
      },
      "execution_count": null,
      "outputs": [
        {
          "output_type": "stream",
          "name": "stdout",
          "text": [
            "image applied\n"
          ]
        }
      ]
    },
    {
      "cell_type": "code",
      "source": [],
      "metadata": {
        "id": "ss-ZFdGfRCdB"
      },
      "execution_count": null,
      "outputs": []
    },
    {
      "cell_type": "code",
      "source": [
        "import random\n",
        "from sklearn.model_selection import train_test_split\n",
        "from sklearn.svm import SVC\n",
        "\n",
        "random.shuffle(data)\n",
        "features = []\n",
        "labels = []\n",
        "\n",
        "for feature , label in data:\n",
        "  features.append(feature)\n",
        "  labels.append(label)\n",
        "\n",
        "xtrain , xtest , ytrain , ytest = train_test_split(features,labels,test_size=0.20)\n",
        "\n",
        "model = SVC(C=1,gamma='auto')\n",
        "model.fit(xtrain,ytrain)\n",
        "\n",
        "prediction = model.predict(xtest)\n",
        "accuracy = model.score(xtest,ytest)\n",
        "\n",
        "print('Accuracy',accuracy)\n",
        "\n",
        "precd = model.predict(tests)\n",
        "print('prediction is:',Categories[precd[0]])"
      ],
      "metadata": {
        "colab": {
          "base_uri": "https://localhost:8080/"
        },
        "id": "LCb2-kCrNBQl",
        "outputId": "659e505f-102e-48ef-c20e-aef1e544d246"
      },
      "execution_count": null,
      "outputs": [
        {
          "output_type": "stream",
          "name": "stdout",
          "text": [
            "Accuracy 0.75\n",
            "prediction is: Notmeme\n"
          ]
        }
      ]
    }
  ]
}