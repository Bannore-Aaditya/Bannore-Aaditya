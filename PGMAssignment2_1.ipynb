{
  "nbformat": 4,
  "nbformat_minor": 0,
  "metadata": {
    "colab": {
      "provenance": [],
      "authorship_tag": "ABX9TyN4sdWHsxgfkNP/1xYFm3vy",
      "include_colab_link": true
    },
    "kernelspec": {
      "name": "python3",
      "display_name": "Python 3"
    },
    "language_info": {
      "name": "python"
    }
  },
  "cells": [
    {
      "cell_type": "markdown",
      "metadata": {
        "id": "view-in-github",
        "colab_type": "text"
      },
      "source": [
        "<a href=\"https://colab.research.google.com/github/Bannore-Aaditya/Bannore-Aaditya/blob/main/PGMAssignment2_1.ipynb\" target=\"_parent\"><img src=\"https://colab.research.google.com/assets/colab-badge.svg\" alt=\"Open In Colab\"/></a>"
      ]
    },
    {
      "cell_type": "code",
      "execution_count": 2,
      "metadata": {
        "colab": {
          "base_uri": "https://localhost:8080/"
        },
        "id": "JPCf1S_i9Iha",
        "outputId": "7cf52e43-9207-4844-f7d8-ba982f5f8079"
      },
      "outputs": [
        {
          "output_type": "stream",
          "name": "stdout",
          "text": [
            "Looking in indexes: https://pypi.org/simple, https://us-python.pkg.dev/colab-wheels/public/simple/\n",
            "Collecting pgmpy\n",
            "  Using cached pgmpy-0.1.20-py3-none-any.whl (1.9 MB)\n",
            "Requirement already satisfied: pyparsing in /usr/local/lib/python3.7/dist-packages (from pgmpy) (3.0.9)\n",
            "Requirement already satisfied: scipy in /usr/local/lib/python3.7/dist-packages (from pgmpy) (1.7.3)\n",
            "Requirement already satisfied: opt-einsum in /usr/local/lib/python3.7/dist-packages (from pgmpy) (3.3.0)\n",
            "Requirement already satisfied: pandas in /usr/local/lib/python3.7/dist-packages (from pgmpy) (1.3.5)\n",
            "Requirement already satisfied: networkx in /usr/local/lib/python3.7/dist-packages (from pgmpy) (2.6.3)\n",
            "Requirement already satisfied: statsmodels in /usr/local/lib/python3.7/dist-packages (from pgmpy) (0.12.2)\n",
            "Requirement already satisfied: tqdm in /usr/local/lib/python3.7/dist-packages (from pgmpy) (4.64.1)\n",
            "Requirement already satisfied: numpy in /usr/local/lib/python3.7/dist-packages (from pgmpy) (1.21.6)\n",
            "Requirement already satisfied: torch in /usr/local/lib/python3.7/dist-packages (from pgmpy) (1.12.1+cu113)\n",
            "Requirement already satisfied: scikit-learn in /usr/local/lib/python3.7/dist-packages (from pgmpy) (1.0.2)\n",
            "Requirement already satisfied: joblib in /usr/local/lib/python3.7/dist-packages (from pgmpy) (1.1.0)\n",
            "Requirement already satisfied: pytz>=2017.3 in /usr/local/lib/python3.7/dist-packages (from pandas->pgmpy) (2022.2.1)\n",
            "Requirement already satisfied: python-dateutil>=2.7.3 in /usr/local/lib/python3.7/dist-packages (from pandas->pgmpy) (2.8.2)\n",
            "Requirement already satisfied: six>=1.5 in /usr/local/lib/python3.7/dist-packages (from python-dateutil>=2.7.3->pandas->pgmpy) (1.15.0)\n",
            "Requirement already satisfied: threadpoolctl>=2.0.0 in /usr/local/lib/python3.7/dist-packages (from scikit-learn->pgmpy) (3.1.0)\n",
            "Requirement already satisfied: patsy>=0.5 in /usr/local/lib/python3.7/dist-packages (from statsmodels->pgmpy) (0.5.2)\n",
            "Requirement already satisfied: typing-extensions in /usr/local/lib/python3.7/dist-packages (from torch->pgmpy) (4.1.1)\n",
            "Installing collected packages: pgmpy\n",
            "Successfully installed pgmpy-0.1.20\n"
          ]
        }
      ],
      "source": [
        "! pip install pgmpy "
      ]
    },
    {
      "cell_type": "code",
      "source": [
        "from pgmpy.factors.discrete import TabularCPD\n",
        "from pgmpy.models import BayesianModel"
      ],
      "metadata": {
        "id": "k69SGOxY9gai"
      },
      "execution_count": 3,
      "outputs": []
    },
    {
      "cell_type": "markdown",
      "source": [
        "Setting models"
      ],
      "metadata": {
        "id": "GDH7Ad4a_N92"
      }
    },
    {
      "cell_type": "code",
      "source": [
        "olympic_model = BayesianModel([('Genetics', 'OlympicTrials'),\n",
        "                             ('Practice', 'OlympicTrials'),\n",
        "                             ('OlympicTrials', 'Offer')])\n"
      ],
      "metadata": {
        "id": "J53ZHoAu_RfB"
      },
      "execution_count": 9,
      "outputs": []
    },
    {
      "cell_type": "code",
      "source": [
        "genetics_cpd = TabularCPD(\n",
        "                variable = 'Genetics',\n",
        "                variable_card = 2,\n",
        "                values = [[.2],[.8]])\n",
        "\n",
        "practice_cpd = TabularCPD(\n",
        "                variable = 'Practice',\n",
        "                variable_card = 2,\n",
        "                values = [[0.7],[0.3]])"
      ],
      "metadata": {
        "id": "eFJJPAnb_2pA"
      },
      "execution_count": 16,
      "outputs": []
    },
    {
      "cell_type": "code",
      "source": [
        "offer_cpd = TabularCPD(\n",
        "                    variable = 'Offer',\n",
        "                    variable_card = 2,\n",
        "                    values = [[0.95, 0.8, 0.5],\n",
        "                             [0.05, 0.2, 0.5]],\n",
        "                    evidence = ['OlympicTrials'],\n",
        "                    evidence_card = [3])\n",
        "\n",
        "olympic_trials_cpd = TabularCPD(\n",
        "                        variable = 'OlympicTrials', \n",
        "                        variable_card = 3,\n",
        "                        values = [[.5, .8, .8, .9],\n",
        "                                 [.3, .15, .1, .08],\n",
        "                                 [.2, .05, .1, .02]],\n",
        "                        evidence = ['Genetics', 'Practice'],\n",
        "                        evidence_card = [2,2])"
      ],
      "metadata": {
        "id": "aTUmXrjz_5lE"
      },
      "execution_count": 17,
      "outputs": []
    },
    {
      "cell_type": "markdown",
      "source": [
        "Add the relationships to your models"
      ],
      "metadata": {
        "id": "UrEmA4VkA9P8"
      }
    },
    {
      "cell_type": "code",
      "source": [
        "olympic_model.add_cpds (genetics_cpd, practice_cpd, offer_cpd, olympic_trials_cpd)"
      ],
      "metadata": {
        "id": "xz9n3YOjA22z"
      },
      "execution_count": 18,
      "outputs": []
    },
    {
      "cell_type": "markdown",
      "source": [
        "Examine the structure of your graph"
      ],
      "metadata": {
        "id": "zPTmD-KfA-Ep"
      }
    },
    {
      "cell_type": "code",
      "source": [
        "olympic_model.get_cpds()\n"
      ],
      "metadata": {
        "colab": {
          "base_uri": "https://localhost:8080/"
        },
        "id": "O3LUS6eyA6UW",
        "outputId": "14fd3505-a1aa-4925-82de-2903a70706ec"
      },
      "execution_count": 19,
      "outputs": [
        {
          "output_type": "execute_result",
          "data": {
            "text/plain": [
              "[<TabularCPD representing P(Genetics:2) at 0x7fd4c329c690>,\n",
              " <TabularCPD representing P(Practice:2) at 0x7fd4c329c150>,\n",
              " <TabularCPD representing P(Offer:2 | OlympicTrials:3) at 0x7fd4c14a5dd0>,\n",
              " <TabularCPD representing P(OlympicTrials:3 | Genetics:2, Practice:2) at 0x7fd4c14a5090>]"
            ]
          },
          "metadata": {},
          "execution_count": 19
        }
      ]
    },
    {
      "cell_type": "markdown",
      "source": [
        "Making inferences"
      ],
      "metadata": {
        "id": "i-O0LZK1BIrx"
      }
    },
    {
      "cell_type": "code",
      "source": [
        "from pgmpy.inference import VariableElimination\n",
        "\n",
        "olympic_infer = VariableElimination(olympic_model)"
      ],
      "metadata": {
        "id": "yYWYo1r_BJS7"
      },
      "execution_count": 21,
      "outputs": []
    },
    {
      "cell_type": "code",
      "source": [
        "prob_offer = olympic_infer.query(variables = ['Offer'])\n",
        "print(prob_offer)"
      ],
      "metadata": {
        "colab": {
          "base_uri": "https://localhost:8080/"
        },
        "id": "JD_s_sfNBUOA",
        "outputId": "cfd613f4-43ff-403e-b854-f854124671cf"
      },
      "execution_count": 24,
      "outputs": [
        {
          "output_type": "stream",
          "name": "stdout",
          "text": [
            "+----------+--------------+\n",
            "| Offer    |   phi(Offer) |\n",
            "+==========+==============+\n",
            "| Offer(0) |       0.8898 |\n",
            "+----------+--------------+\n",
            "| Offer(1) |       0.1102 |\n",
            "+----------+--------------+\n"
          ]
        }
      ]
    },
    {
      "cell_type": "code",
      "source": [
        "prob_offer_good_genes = olympic_infer.query(\n",
        "                                        variables = ['Offer', 'Genetics'])\n",
        "print(prob_offer_good_genes)\n",
        "#print(prob_offer_good_genes['Offer'])"
      ],
      "metadata": {
        "colab": {
          "base_uri": "https://localhost:8080/"
        },
        "id": "9aeHNZ9mBh-w",
        "outputId": "c8bc96be-d263-4efe-8e4b-b92aa5738a2c"
      },
      "execution_count": 25,
      "outputs": [
        {
          "output_type": "stream",
          "name": "stdout",
          "text": [
            "+----------+-------------+-----------------------+\n",
            "| Offer    | Genetics    |   phi(Offer,Genetics) |\n",
            "+==========+=============+=======================+\n",
            "| Offer(0) | Genetics(0) |                0.1684 |\n",
            "+----------+-------------+-----------------------+\n",
            "| Offer(0) | Genetics(1) |                0.7214 |\n",
            "+----------+-------------+-----------------------+\n",
            "| Offer(1) | Genetics(0) |                0.0316 |\n",
            "+----------+-------------+-----------------------+\n",
            "| Offer(1) | Genetics(1) |                0.0786 |\n",
            "+----------+-------------+-----------------------+\n"
          ]
        }
      ]
    },
    {
      "cell_type": "code",
      "source": [
        "prob_offer_good_genes = olympic_infer.query(\n",
        "                                        variables = ['Offer', 'OlympicTrials'])\n",
        "print(prob_offer_good_genes)"
      ],
      "metadata": {
        "colab": {
          "base_uri": "https://localhost:8080/"
        },
        "id": "jFTOq6SuCOz7",
        "outputId": "62a2f7f8-1f8c-4506-9c77-efc2596ec74d"
      },
      "execution_count": 26,
      "outputs": [
        {
          "output_type": "stream",
          "name": "stdout",
          "text": [
            "+----------+------------------+----------------------------+\n",
            "| Offer    | OlympicTrials    |   phi(Offer,OlympicTrials) |\n",
            "+==========+==================+============================+\n",
            "| Offer(0) | OlympicTrials(0) |                     0.7429 |\n",
            "+----------+------------------+----------------------------+\n",
            "| Offer(0) | OlympicTrials(1) |                     0.1010 |\n",
            "+----------+------------------+----------------------------+\n",
            "| Offer(0) | OlympicTrials(2) |                     0.0459 |\n",
            "+----------+------------------+----------------------------+\n",
            "| Offer(1) | OlympicTrials(0) |                     0.0391 |\n",
            "+----------+------------------+----------------------------+\n",
            "| Offer(1) | OlympicTrials(1) |                     0.0252 |\n",
            "+----------+------------------+----------------------------+\n",
            "| Offer(1) | OlympicTrials(2) |                     0.0459 |\n",
            "+----------+------------------+----------------------------+\n"
          ]
        }
      ]
    },
    {
      "cell_type": "code",
      "source": [
        "prob_offer_bad_genes = olympic_infer.query(\n",
        "                                        variables = ['Offer'], \n",
        "                                        evidence = {'Genetics':1})\n",
        "print(prob_offer_bad_genes)"
      ],
      "metadata": {
        "colab": {
          "base_uri": "https://localhost:8080/"
        },
        "id": "jBK6jd64CUci",
        "outputId": "a0601ebe-8f94-48cf-9196-7c5e144f57d9"
      },
      "execution_count": 27,
      "outputs": [
        {
          "output_type": "stream",
          "name": "stdout",
          "text": [
            "+----------+--------------+\n",
            "| Offer    |   phi(Offer) |\n",
            "+==========+==============+\n",
            "| Offer(0) |       0.9017 |\n",
            "+----------+--------------+\n",
            "| Offer(1) |       0.0983 |\n",
            "+----------+--------------+\n"
          ]
        }
      ]
    },
    {
      "cell_type": "code",
      "source": [
        "prob_offer_good_genes_did_practice = olympic_infer.query(\n",
        "                                        variables = ['Offer'], \n",
        "                                        evidence = {'Genetics':0, 'Practice':0})\n",
        "print(prob_offer_good_genes_did_practice)"
      ],
      "metadata": {
        "colab": {
          "base_uri": "https://localhost:8080/"
        },
        "id": "sIQ9mWNjCZ-W",
        "outputId": "6517b194-4dba-4828-c3b8-a35632046887"
      },
      "execution_count": 28,
      "outputs": [
        {
          "output_type": "stream",
          "name": "stdout",
          "text": [
            "+----------+--------------+\n",
            "| Offer    |   phi(Offer) |\n",
            "+==========+==============+\n",
            "| Offer(0) |       0.8150 |\n",
            "+----------+--------------+\n",
            "| Offer(1) |       0.1850 |\n",
            "+----------+--------------+\n"
          ]
        }
      ]
    },
    {
      "cell_type": "code",
      "source": [
        "prob_good_genes_if_amazing_olympic_trials = olympic_infer.query(\n",
        "                                        variables = ['Genetics'], \n",
        "                                        evidence = {'OlympicTrials':2})\n",
        "print(prob_good_genes_if_amazing_olympic_trials)"
      ],
      "metadata": {
        "colab": {
          "base_uri": "https://localhost:8080/"
        },
        "id": "i5Mxo94CCeoa",
        "outputId": "cf34d335-d55d-45fa-868c-51048b491253"
      },
      "execution_count": 29,
      "outputs": [
        {
          "output_type": "stream",
          "name": "stdout",
          "text": [
            "+-------------+-----------------+\n",
            "| Genetics    |   phi(Genetics) |\n",
            "+=============+=================+\n",
            "| Genetics(0) |          0.3377 |\n",
            "+-------------+-----------------+\n",
            "| Genetics(1) |          0.6623 |\n",
            "+-------------+-----------------+\n"
          ]
        }
      ]
    },
    {
      "cell_type": "code",
      "source": [
        "##independencies\n",
        "\n",
        "olympic_model.get_independencies()"
      ],
      "metadata": {
        "colab": {
          "base_uri": "https://localhost:8080/"
        },
        "id": "0IZUrQMBClD-",
        "outputId": "eedc19c5-994d-427a-c79a-bb5d97886789"
      },
      "execution_count": 30,
      "outputs": [
        {
          "output_type": "execute_result",
          "data": {
            "text/plain": [
              "(Practice ⟂ Genetics)\n",
              "(Practice ⟂ Offer | OlympicTrials)\n",
              "(Practice ⟂ Offer | OlympicTrials, Genetics)\n",
              "(Offer ⟂ Practice, Genetics | OlympicTrials)\n",
              "(Offer ⟂ Genetics | Practice, OlympicTrials)\n",
              "(Offer ⟂ Practice | OlympicTrials, Genetics)\n",
              "(Genetics ⟂ Practice)\n",
              "(Genetics ⟂ Offer | OlympicTrials)\n",
              "(Genetics ⟂ Offer | Practice, OlympicTrials)"
            ]
          },
          "metadata": {},
          "execution_count": 30
        }
      ]
    }
  ]
}