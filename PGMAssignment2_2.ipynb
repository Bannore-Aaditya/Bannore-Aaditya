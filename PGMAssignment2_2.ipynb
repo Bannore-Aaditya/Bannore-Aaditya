{
  "nbformat": 4,
  "nbformat_minor": 0,
  "metadata": {
    "colab": {
      "provenance": [],
      "authorship_tag": "ABX9TyO/64di4efZ9w3xzG3IG6h2",
      "include_colab_link": true
    },
    "kernelspec": {
      "name": "python3",
      "display_name": "Python 3"
    },
    "language_info": {
      "name": "python"
    }
  },
  "cells": [
    {
      "cell_type": "markdown",
      "metadata": {
        "id": "view-in-github",
        "colab_type": "text"
      },
      "source": [
        "<a href=\"https://colab.research.google.com/github/Bannore-Aaditya/Bannore-Aaditya/blob/main/PGMAssignment2_2.ipynb\" target=\"_parent\"><img src=\"https://colab.research.google.com/assets/colab-badge.svg\" alt=\"Open In Colab\"/></a>"
      ]
    },
    {
      "cell_type": "code",
      "execution_count": 1,
      "metadata": {
        "colab": {
          "base_uri": "https://localhost:8080/"
        },
        "id": "vQ4dlJefDI_7",
        "outputId": "0d557d26-c4db-4f13-b389-34b9c1f89f6c"
      },
      "outputs": [
        {
          "output_type": "stream",
          "name": "stdout",
          "text": [
            "Looking in indexes: https://pypi.org/simple, https://us-python.pkg.dev/colab-wheels/public/simple/\n",
            "Collecting pgmpy\n",
            "  Downloading pgmpy-0.1.20-py3-none-any.whl (1.9 MB)\n",
            "\u001b[K     |████████████████████████████████| 1.9 MB 2.1 MB/s \n",
            "\u001b[?25hRequirement already satisfied: joblib in /usr/local/lib/python3.7/dist-packages (from pgmpy) (1.1.0)\n",
            "Requirement already satisfied: scikit-learn in /usr/local/lib/python3.7/dist-packages (from pgmpy) (1.0.2)\n",
            "Requirement already satisfied: pyparsing in /usr/local/lib/python3.7/dist-packages (from pgmpy) (3.0.9)\n",
            "Requirement already satisfied: pandas in /usr/local/lib/python3.7/dist-packages (from pgmpy) (1.3.5)\n",
            "Requirement already satisfied: networkx in /usr/local/lib/python3.7/dist-packages (from pgmpy) (2.6.3)\n",
            "Requirement already satisfied: numpy in /usr/local/lib/python3.7/dist-packages (from pgmpy) (1.21.6)\n",
            "Requirement already satisfied: tqdm in /usr/local/lib/python3.7/dist-packages (from pgmpy) (4.64.1)\n",
            "Requirement already satisfied: opt-einsum in /usr/local/lib/python3.7/dist-packages (from pgmpy) (3.3.0)\n",
            "Requirement already satisfied: torch in /usr/local/lib/python3.7/dist-packages (from pgmpy) (1.12.1+cu113)\n",
            "Requirement already satisfied: statsmodels in /usr/local/lib/python3.7/dist-packages (from pgmpy) (0.12.2)\n",
            "Requirement already satisfied: scipy in /usr/local/lib/python3.7/dist-packages (from pgmpy) (1.7.3)\n",
            "Requirement already satisfied: python-dateutil>=2.7.3 in /usr/local/lib/python3.7/dist-packages (from pandas->pgmpy) (2.8.2)\n",
            "Requirement already satisfied: pytz>=2017.3 in /usr/local/lib/python3.7/dist-packages (from pandas->pgmpy) (2022.2.1)\n",
            "Requirement already satisfied: six>=1.5 in /usr/local/lib/python3.7/dist-packages (from python-dateutil>=2.7.3->pandas->pgmpy) (1.15.0)\n",
            "Requirement already satisfied: threadpoolctl>=2.0.0 in /usr/local/lib/python3.7/dist-packages (from scikit-learn->pgmpy) (3.1.0)\n",
            "Requirement already satisfied: patsy>=0.5 in /usr/local/lib/python3.7/dist-packages (from statsmodels->pgmpy) (0.5.2)\n",
            "Requirement already satisfied: typing-extensions in /usr/local/lib/python3.7/dist-packages (from torch->pgmpy) (4.1.1)\n",
            "Installing collected packages: pgmpy\n",
            "Successfully installed pgmpy-0.1.20\n"
          ]
        }
      ],
      "source": [
        "! pip install pgmpy "
      ]
    },
    {
      "cell_type": "code",
      "source": [
        "from pgmpy.factors.discrete import TabularCPD\n",
        "from pgmpy.models import BayesianModel"
      ],
      "metadata": {
        "id": "mAZ0NW5QEFl4"
      },
      "execution_count": 2,
      "outputs": []
    },
    {
      "cell_type": "markdown",
      "source": [
        "Setting model"
      ],
      "metadata": {
        "id": "OTD50nfAEI6Z"
      }
    },
    {
      "cell_type": "code",
      "source": [
        "difficulty_cpd = TabularCPD(variable='D',\n",
        "                       variable_card=2,\n",
        "                       values=[[.6], [.4]])\n",
        "\n",
        "intelligence_cpd = TabularCPD(variable='I',\n",
        "                       variable_card=2,\n",
        "                       values=[[.7], [.3]])\n",
        "\n",
        "sat_cpd = TabularCPD(variable='S',\n",
        "                     variable_card=2,\n",
        "                     values=[[.95, 0.2],\n",
        "                             [.05, 0.8]],\n",
        "                     evidence=['I'],\n",
        "                     evidence_card=[2])\n",
        "\n",
        "# grade\n",
        "grade_cpd = TabularCPD(variable='G',\n",
        "                         variable_card=3,\n",
        "                         values=[[.3, .05, .9, .5 ],\n",
        "                        [.4, .25, .08, .3],\n",
        "                        [.3, .7, .02, .2]],\n",
        "                         evidence=['I', 'D'],\n",
        "                         evidence_card=[2, 2])\n",
        "\n",
        "letter_cpd = TabularCPD(variable='L',\n",
        "                     variable_card=2,\n",
        "                     values=[[.1, 0.4, .99],\n",
        "                             [.9, 0.6, .01]],\n",
        "                     evidence=['G'],\n",
        "                     evidence_card=[3])"
      ],
      "metadata": {
        "id": "wCdsdMjREK2E"
      },
      "execution_count": 3,
      "outputs": []
    },
    {
      "cell_type": "markdown",
      "source": [
        "Building the Student Model"
      ],
      "metadata": {
        "id": "0UH7KPSyEUR6"
      }
    },
    {
      "cell_type": "code",
      "source": [
        "student_model = BayesianModel([('D', 'G'),('I', 'G'), ('I', 'S'), ('G', 'L')])"
      ],
      "metadata": {
        "colab": {
          "base_uri": "https://localhost:8080/"
        },
        "id": "mWFTFhIkEZFJ",
        "outputId": "fca55dcb-7c1a-4fed-d726-d2a89a740f66"
      },
      "execution_count": 4,
      "outputs": [
        {
          "output_type": "stream",
          "name": "stderr",
          "text": [
            "/usr/local/lib/python3.7/dist-packages/pgmpy/models/BayesianModel.py:10: FutureWarning: BayesianModel has been renamed to BayesianNetwork. Please use BayesianNetwork class, BayesianModel will be removed in future.\n",
            "  FutureWarning,\n"
          ]
        }
      ]
    },
    {
      "cell_type": "code",
      "source": [
        "student_model.add_cpds(difficulty_cpd, intelligence_cpd, sat_cpd, grade_cpd, letter_cpd)"
      ],
      "metadata": {
        "id": "ZQuldqezEfWt"
      },
      "execution_count": 5,
      "outputs": []
    },
    {
      "cell_type": "code",
      "source": [
        "print(\"CPDS\")\n",
        "print(student_model.get_cpds())\n",
        "#student_model.get_leaves()\n",
        "print(\"Independencies\")\n",
        "print(student_model.get_independencies())"
      ],
      "metadata": {
        "colab": {
          "base_uri": "https://localhost:8080/"
        },
        "id": "NhcwqEDQEkWI",
        "outputId": "ea38f910-20fa-468d-f8da-5207fa0a2313"
      },
      "execution_count": 6,
      "outputs": [
        {
          "output_type": "stream",
          "name": "stdout",
          "text": [
            "CPDS\n",
            "[<TabularCPD representing P(D:2) at 0x7fdee1be8610>, <TabularCPD representing P(I:2) at 0x7fdee1be85d0>, <TabularCPD representing P(S:2 | I:2) at 0x7fdee1be8650>, <TabularCPD representing P(G:3 | I:2, D:2) at 0x7fdee1be8690>, <TabularCPD representing P(L:2 | G:3) at 0x7fdee1be8710>]\n",
            "Independencies\n",
            "(I ⟂ D)\n",
            "(I ⟂ L | G)\n",
            "(I ⟂ D | S)\n",
            "(I ⟂ L | G, D)\n",
            "(I ⟂ L | G, S)\n",
            "(I ⟂ L | G, D, S)\n",
            "(G ⟂ S | I)\n",
            "(G ⟂ S | I, D)\n",
            "(G ⟂ S | I, L)\n",
            "(G ⟂ S | I, D, L)\n",
            "(D ⟂ I, S)\n",
            "(D ⟂ S | I)\n",
            "(D ⟂ L | G)\n",
            "(D ⟂ I | S)\n",
            "(D ⟂ S, L | I, G)\n",
            "(D ⟂ S | I, L)\n",
            "(D ⟂ L | G, S)\n",
            "(D ⟂ L | I, G, S)\n",
            "(D ⟂ S | I, G, L)\n",
            "(S ⟂ D)\n",
            "(S ⟂ G, D, L | I)\n",
            "(S ⟂ L | G)\n",
            "(S ⟂ D, L | I, G)\n",
            "(S ⟂ G, L | I, D)\n",
            "(S ⟂ G, D | I, L)\n",
            "(S ⟂ L | G, D)\n",
            "(S ⟂ L | I, G, D)\n",
            "(S ⟂ D | I, G, L)\n",
            "(S ⟂ G | I, D, L)\n",
            "(L ⟂ S | I)\n",
            "(L ⟂ I, S, D | G)\n",
            "(L ⟂ S, D | I, G)\n",
            "(L ⟂ S | I, D)\n",
            "(L ⟂ I, S | G, D)\n",
            "(L ⟂ I, D | G, S)\n",
            "(L ⟂ S | I, G, D)\n",
            "(L ⟂ D | I, G, S)\n",
            "(L ⟂ I | G, D, S)\n"
          ]
        }
      ]
    },
    {
      "cell_type": "code",
      "source": [
        "from pgmpy.inference.base import Inference\n",
        "from pgmpy.factors import factor_product\n",
        "\n",
        "import itertools\n",
        "\n",
        "\n",
        "class SimpleInference(Inference):\n",
        "    def query(self, var, evidence):\n",
        "        # self.factors is a dict of the form of {node: [factors_involving_node]}\n",
        "        factors_list = set(itertools.chain(*self.factors.values()))\n",
        "        product = factor_product(*factors_list)\n",
        "        reduced_prod = product.reduce(evidence, inplace=False)\n",
        "        reduced_prod.normalize()\n",
        "        var_to_marg = set(self.model.nodes()) - set(var) - set([state[0] for state in evidence])\n",
        "        marg_prod = reduced_prod.marginalize(var_to_marg, inplace=False)\n",
        "        return marg_prod\n",
        "\n",
        "\n",
        "infer = SimpleInference(student_model)\n",
        "l1 = infer.query(var=['L'], evidence=[('I', 1), ('D', 0)])\n",
        "print(l1)"
      ],
      "metadata": {
        "colab": {
          "base_uri": "https://localhost:8080/",
          "height": 339
        },
        "id": "mXM0auquEpyD",
        "outputId": "6bf73712-27c9-486b-d077-45207735de80"
      },
      "execution_count": 8,
      "outputs": [
        {
          "output_type": "error",
          "ename": "AttributeError",
          "evalue": "ignored",
          "traceback": [
            "\u001b[0;31m---------------------------------------------------------------------------\u001b[0m",
            "\u001b[0;31mAttributeError\u001b[0m                            Traceback (most recent call last)",
            "\u001b[0;32m<ipython-input-8-2c5d1f959c8b>\u001b[0m in \u001b[0;36m<module>\u001b[0;34m\u001b[0m\n\u001b[1;32m     18\u001b[0m \u001b[0;34m\u001b[0m\u001b[0m\n\u001b[1;32m     19\u001b[0m \u001b[0minfer\u001b[0m \u001b[0;34m=\u001b[0m \u001b[0mSimpleInference\u001b[0m\u001b[0;34m(\u001b[0m\u001b[0mstudent_model\u001b[0m\u001b[0;34m)\u001b[0m\u001b[0;34m\u001b[0m\u001b[0;34m\u001b[0m\u001b[0m\n\u001b[0;32m---> 20\u001b[0;31m \u001b[0ml1\u001b[0m \u001b[0;34m=\u001b[0m \u001b[0minfer\u001b[0m\u001b[0;34m.\u001b[0m\u001b[0mquery\u001b[0m\u001b[0;34m(\u001b[0m\u001b[0mvar\u001b[0m\u001b[0;34m=\u001b[0m\u001b[0;34m[\u001b[0m\u001b[0;34m'L'\u001b[0m\u001b[0;34m]\u001b[0m\u001b[0;34m,\u001b[0m \u001b[0mevidence\u001b[0m\u001b[0;34m=\u001b[0m\u001b[0;34m[\u001b[0m\u001b[0;34m(\u001b[0m\u001b[0;34m'I'\u001b[0m\u001b[0;34m,\u001b[0m \u001b[0;36m1\u001b[0m\u001b[0;34m)\u001b[0m\u001b[0;34m,\u001b[0m \u001b[0;34m(\u001b[0m\u001b[0;34m'D'\u001b[0m\u001b[0;34m,\u001b[0m \u001b[0;36m0\u001b[0m\u001b[0;34m)\u001b[0m\u001b[0;34m]\u001b[0m\u001b[0;34m)\u001b[0m\u001b[0;34m\u001b[0m\u001b[0;34m\u001b[0m\u001b[0m\n\u001b[0m\u001b[1;32m     21\u001b[0m \u001b[0mprint\u001b[0m\u001b[0;34m(\u001b[0m\u001b[0ml1\u001b[0m\u001b[0;34m)\u001b[0m\u001b[0;34m\u001b[0m\u001b[0;34m\u001b[0m\u001b[0m\n",
            "\u001b[0;32m<ipython-input-8-2c5d1f959c8b>\u001b[0m in \u001b[0;36mquery\u001b[0;34m(self, var, evidence)\u001b[0m\n\u001b[1;32m      8\u001b[0m     \u001b[0;32mdef\u001b[0m \u001b[0mquery\u001b[0m\u001b[0;34m(\u001b[0m\u001b[0mself\u001b[0m\u001b[0;34m,\u001b[0m \u001b[0mvar\u001b[0m\u001b[0;34m,\u001b[0m \u001b[0mevidence\u001b[0m\u001b[0;34m)\u001b[0m\u001b[0;34m:\u001b[0m\u001b[0;34m\u001b[0m\u001b[0;34m\u001b[0m\u001b[0m\n\u001b[1;32m      9\u001b[0m         \u001b[0;31m# self.factors is a dict of the form of {node: [factors_involving_node]}\u001b[0m\u001b[0;34m\u001b[0m\u001b[0;34m\u001b[0m\u001b[0;34m\u001b[0m\u001b[0m\n\u001b[0;32m---> 10\u001b[0;31m         \u001b[0mfactors_list\u001b[0m \u001b[0;34m=\u001b[0m \u001b[0mset\u001b[0m\u001b[0;34m(\u001b[0m\u001b[0mitertools\u001b[0m\u001b[0;34m.\u001b[0m\u001b[0mchain\u001b[0m\u001b[0;34m(\u001b[0m\u001b[0;34m*\u001b[0m\u001b[0mself\u001b[0m\u001b[0;34m.\u001b[0m\u001b[0mvalues\u001b[0m\u001b[0;34m(\u001b[0m\u001b[0;34m)\u001b[0m\u001b[0;34m)\u001b[0m\u001b[0;34m)\u001b[0m\u001b[0;34m\u001b[0m\u001b[0;34m\u001b[0m\u001b[0m\n\u001b[0m\u001b[1;32m     11\u001b[0m         \u001b[0mproduct\u001b[0m \u001b[0;34m=\u001b[0m \u001b[0mfactor_product\u001b[0m\u001b[0;34m(\u001b[0m\u001b[0;34m*\u001b[0m\u001b[0mfactors_list\u001b[0m\u001b[0;34m)\u001b[0m\u001b[0;34m\u001b[0m\u001b[0;34m\u001b[0m\u001b[0m\n\u001b[1;32m     12\u001b[0m         \u001b[0mreduced_prod\u001b[0m \u001b[0;34m=\u001b[0m \u001b[0mproduct\u001b[0m\u001b[0;34m.\u001b[0m\u001b[0mreduce\u001b[0m\u001b[0;34m(\u001b[0m\u001b[0mevidence\u001b[0m\u001b[0;34m,\u001b[0m \u001b[0minplace\u001b[0m\u001b[0;34m=\u001b[0m\u001b[0;32mFalse\u001b[0m\u001b[0;34m)\u001b[0m\u001b[0;34m\u001b[0m\u001b[0;34m\u001b[0m\u001b[0m\n",
            "\u001b[0;31mAttributeError\u001b[0m: 'SimpleInference' object has no attribute 'values'"
          ]
        }
      ]
    },
    {
      "cell_type": "code",
      "source": [
        "from pgmpy.inference import VariableElimination\n",
        "\n",
        "olympic_infer = VariableElimination(student_model)"
      ],
      "metadata": {
        "id": "9zB4ZSzPFAmD"
      },
      "execution_count": 9,
      "outputs": []
    },
    {
      "cell_type": "markdown",
      "source": [
        "Questions"
      ],
      "metadata": {
        "id": "05Nu3-xHFGCU"
      }
    },
    {
      "cell_type": "code",
      "source": [
        "prob_offer = olympic_infer.query(variables = ['L'])\n",
        "print(prob_offer)"
      ],
      "metadata": {
        "colab": {
          "base_uri": "https://localhost:8080/"
        },
        "id": "5E09TQ6CFHuW",
        "outputId": "0bd25604-99b4-4b98-de8b-3ea09d043cb6"
      },
      "execution_count": 10,
      "outputs": [
        {
          "output_type": "stream",
          "name": "stdout",
          "text": [
            "+------+----------+\n",
            "| L    |   phi(L) |\n",
            "+======+==========+\n",
            "| L(0) |   0.4977 |\n",
            "+------+----------+\n",
            "| L(1) |   0.5023 |\n",
            "+------+----------+\n"
          ]
        },
        {
          "output_type": "stream",
          "name": "stderr",
          "text": [
            "/usr/local/lib/python3.7/dist-packages/pgmpy/models/BayesianModel.py:10: FutureWarning: BayesianModel has been renamed to BayesianNetwork. Please use BayesianNetwork class, BayesianModel will be removed in future.\n",
            "  FutureWarning,\n"
          ]
        }
      ]
    },
    {
      "cell_type": "code",
      "source": [
        "prob_offer_bad_genes = olympic_infer.query(\n",
        "                                        variables = ['L'], \n",
        "                                        evidence = {'D':1})\n",
        "print(prob_offer_bad_genes)"
      ],
      "metadata": {
        "colab": {
          "base_uri": "https://localhost:8080/"
        },
        "id": "sJrro8AyFUNn",
        "outputId": "27ded6f2-f6fc-49cd-dca0-36ef6ea2162f"
      },
      "execution_count": 11,
      "outputs": [
        {
          "output_type": "stream",
          "name": "stdout",
          "text": [
            "+------+----------+\n",
            "| L    |   phi(L) |\n",
            "+======+==========+\n",
            "| L(0) |   0.6690 |\n",
            "+------+----------+\n",
            "| L(1) |   0.3310 |\n",
            "+------+----------+\n"
          ]
        }
      ]
    },
    {
      "cell_type": "code",
      "source": [
        "prob_offer_good_genes_did_practice = olympic_infer.query(\n",
        "                                        variables = ['L'], \n",
        "                                        evidence = {'D':0, 'I':0})\n",
        "print(prob_offer_good_genes_did_practice)"
      ],
      "metadata": {
        "colab": {
          "base_uri": "https://localhost:8080/"
        },
        "id": "OHMHBuSvFfYj",
        "outputId": "df151767-103e-4295-eb46-ab9a22c3b50b"
      },
      "execution_count": 14,
      "outputs": [
        {
          "output_type": "stream",
          "name": "stdout",
          "text": [
            "+------+----------+\n",
            "| L    |   phi(L) |\n",
            "+======+==========+\n",
            "| L(0) |   0.4870 |\n",
            "+------+----------+\n",
            "| L(1) |   0.5130 |\n",
            "+------+----------+\n"
          ]
        }
      ]
    },
    {
      "cell_type": "code",
      "source": [
        "prob_good_genes_if_amazing_olympic_trials = olympic_infer.query(\n",
        "                                        variables = ['G'], \n",
        "                                        evidence = {'L':0})\n",
        "print(prob_good_genes_if_amazing_olympic_trials)"
      ],
      "metadata": {
        "colab": {
          "base_uri": "https://localhost:8080/"
        },
        "id": "cYKs6_wQFypO",
        "outputId": "8d925ebc-8710-464e-e44c-e4f4b5ed5e66"
      },
      "execution_count": 16,
      "outputs": [
        {
          "output_type": "stream",
          "name": "stdout",
          "text": [
            "+------+----------+\n",
            "| G    |   phi(G) |\n",
            "+======+==========+\n",
            "| G(0) |   0.0727 |\n",
            "+------+----------+\n",
            "| G(1) |   0.2318 |\n",
            "+------+----------+\n",
            "| G(2) |   0.6955 |\n",
            "+------+----------+\n"
          ]
        }
      ]
    }
  ]
}